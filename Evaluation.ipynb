{
  "cells": [
    {
      "cell_type": "code",
      "execution_count": null,
      "metadata": {
        "colab": {
          "base_uri": "https://localhost:8080/"
        },
        "id": "Mewx5vLt673N",
        "outputId": "36720d9d-2780-40a7-806e-d84467c9668f"
      },
      "outputs": [
        {
          "output_type": "stream",
          "name": "stdout",
          "text": [
            "Drive already mounted at /content/drive/; to attempt to forcibly remount, call drive.mount(\"/content/drive/\", force_remount=True).\n",
            "Looking in indexes: https://pypi.org/simple, https://us-python.pkg.dev/colab-wheels/public/simple/\n",
            "Requirement already satisfied: fasttext in /usr/local/lib/python3.10/dist-packages (0.9.2)\n",
            "Requirement already satisfied: pybind11>=2.2 in /usr/local/lib/python3.10/dist-packages (from fasttext) (2.10.4)\n",
            "Requirement already satisfied: setuptools>=0.7.0 in /usr/local/lib/python3.10/dist-packages (from fasttext) (67.7.2)\n",
            "Requirement already satisfied: numpy in /usr/local/lib/python3.10/dist-packages (from fasttext) (1.22.4)\n",
            "Looking in indexes: https://pypi.org/simple, https://us-python.pkg.dev/colab-wheels/public/simple/\n",
            "Requirement already satisfied: dill in /usr/local/lib/python3.10/dist-packages (0.3.6)\n",
            "/content/drive/.shortcut-targets-by-id/1RayPxpEo2RRyDCA-yGwopzfV6s9VCiAB/NLPPROJECT/evaluate\n"
          ]
        },
        {
          "output_type": "stream",
          "name": "stderr",
          "text": [
            "Warning : `load_model` does not return WordVectorModel or SupervisedModel any more, but a `FastText` object which is very similar.\n"
          ]
        }
      ],
      "source": [
        "from google.colab import drive\n",
        "drive.mount(\"/content/drive/\")\n",
        "\n",
        "!pip install fasttext\n",
        "!pip install dill\n",
        "\n",
        "%cd /content/drive/MyDrive/NLPPROJECT/evaluate/\n",
        "from evaluate import Evaluate\n",
        "\n",
        "fasttext_model_path = \"/content/drive/MyDrive/NLPPROJECT/evaluate/models/yelp_trained_model.bin\"\n",
        "trigram_model_path = \"/content/drive/MyDrive/NLPPROJECT/evaluate/models/KN_trigram_model.pkl\"\n",
        "\n",
        "em = Evaluate(fasttext_model_path, trigram_model_path)\n",
        "\n",
        "import csv\n",
        "from tqdm import tqdm\n",
        "import pandas as pd\n",
        "import numpy as np\n",
        "\n",
        "from nltk.tokenize import word_tokenize"
      ]
    },
    {
      "cell_type": "markdown",
      "source": [
        "# Calculating fasttext classifier accuracy"
      ],
      "metadata": {
        "id": "shveFgiSKIFa"
      }
    },
    {
      "cell_type": "code",
      "source": [
        "train_data_path = \"/content/drive/MyDrive/NLPPROJECT/evaluate/fasttext_yelp_data.txt\"\n",
        "test_data_path = \"/content/drive/MyDrive/NLPPROJECT/evaluate/fasttext_yelp_test_data.txt\"\n",
        "\n",
        "print(f\"Train set accuracy: {em.ft_model.test_model(train_data_path)[1]*100:.2f}%\")\n",
        "print(f\"Test set accuracy: {em.ft_model.test_model(test_data_path)[1]*100:.2f}%\")"
      ],
      "metadata": {
        "colab": {
          "base_uri": "https://localhost:8080/"
        },
        "id": "D77wzm7LKHd9",
        "outputId": "92e7bab3-c31a-4f9a-f5b0-f13ed5a867c6"
      },
      "execution_count": null,
      "outputs": [
        {
          "output_type": "stream",
          "name": "stdout",
          "text": [
            "Train set accuracy: 97.27%\n",
            "Test set accuracy: 96.54%\n"
          ]
        }
      ]
    },
    {
      "cell_type": "markdown",
      "source": [
        "## Evaluating all of the outputs \n",
        "\n",
        "1. LLM Zero-shot outputs\n",
        "2. LLM Few-shot outputs\n",
        "3. VAE Reconstruction outputs\n",
        "4. VAE Style Transfer outputs\n",
        "5. VAE CF Style Transfer outputs"
      ],
      "metadata": {
        "id": "V_qtA4YBuIMQ"
      }
    },
    {
      "cell_type": "code",
      "source": [
        "file_path = \"/content/drive/MyDrive/NLPPROJECT/test/llm_few_shot_outputs.csv\"\n",
        "out_path = \"/content/drive/MyDrive/NLPPROJECT/test/llm_few_shot_outputs_evaluated.csv\"\n",
        "\n",
        "data = []\n",
        "with open(file_path, \"r\") as csvfile:\n",
        "  reader = csv.reader(csvfile)\n",
        "\n",
        "  for row in reader:\n",
        "    data.append(row)\n",
        "  \n",
        "# column names\n",
        "in_header = data[0]\n",
        "del data[0]\n",
        "\n",
        "out_header = [*in_header, \"cp\", \"lf\", \"gm\"]\n",
        "with open(out_path, \"w\", newline=\"\") as csvfile:\n",
        "    writer = csv.writer(csvfile)\n",
        "    writer.writerow(out_header)\n",
        "\n",
        "out_data = []\n",
        "for i, example in enumerate(tqdm(data)):\n",
        "  orig_text, orig_label, tran_text = example\n",
        "  tran_label = \"pos\" if orig_label == \"neg\" else \"neg\"\n",
        "\n",
        "  scores = em.score(tran_text, tran_label, orig_text, st=False)\n",
        "  out_data.append([*example, *scores.values()])\n",
        "\n",
        "  if (i+1) % 50 == 0:\n",
        "    with open(out_path, \"a\", newline=\"\") as csvfile:\n",
        "      writer = csv.writer(csvfile)\n",
        "      writer.writerows(out_data)\n",
        "    out_data = []\n",
        "\n",
        "with open(out_path, \"a\", newline=\"\") as csvfile:\n",
        "  writer = csv.writer(csvfile)\n",
        "  writer.writerows(out_data)"
      ],
      "metadata": {
        "id": "e-0VHrYst1hP"
      },
      "execution_count": null,
      "outputs": []
    },
    {
      "cell_type": "code",
      "source": [
        "file_path = \"/content/drive/MyDrive/NLPPROJECT/test/llm_zero_shot_outputs.csv\"\n",
        "out_path = \"/content/drive/MyDrive/NLPPROJECT/test/llm_zero_shot_outputs_evaluated.csv\"\n",
        "\n",
        "data = []\n",
        "with open(file_path, \"r\") as csvfile:\n",
        "  reader = csv.reader(csvfile)\n",
        "\n",
        "  for row in reader:\n",
        "    data.append(row)\n",
        "  \n",
        "# column names\n",
        "in_header = data[0]\n",
        "del data[0]\n",
        "\n",
        "out_header = [*in_header, \"cp\", \"lf\", \"gm\"]\n",
        "with open(out_path, \"w\", newline=\"\") as csvfile:\n",
        "    writer = csv.writer(csvfile)\n",
        "    writer.writerow(out_header)\n",
        "\n",
        "out_data = []\n",
        "for i, example in enumerate(tqdm(data)):\n",
        "  orig_text, orig_label, tran_text = example\n",
        "  tran_label = \"pos\" if orig_label == \"neg\" else \"neg\"\n",
        "\n",
        "  scores = em.score(tran_text, tran_label, orig_text, st=False)\n",
        "  out_data.append([*example, *scores.values()])\n",
        "\n",
        "  if (i+1) % 50 == 0:\n",
        "    with open(out_path, \"a\", newline=\"\") as csvfile:\n",
        "      writer = csv.writer(csvfile)\n",
        "      writer.writerows(out_data)\n",
        "    out_data = []\n",
        "\n",
        "with open(out_path, \"a\", newline=\"\") as csvfile:\n",
        "  writer = csv.writer(csvfile)\n",
        "  writer.writerows(out_data)"
      ],
      "metadata": {
        "id": "ZzvexhXMt6GJ"
      },
      "execution_count": null,
      "outputs": []
    },
    {
      "cell_type": "code",
      "execution_count": null,
      "metadata": {
        "colab": {
          "base_uri": "https://localhost:8080/"
        },
        "id": "4L1g32YN6-FW",
        "outputId": "fce65c5d-1001-4266-dbbb-d38042dbd0ca"
      },
      "outputs": [
        {
          "name": "stderr",
          "output_type": "stream",
          "text": [
            "100%|██████████| 2500/2500 [1:00:24<00:00,  1.45s/it]\n"
          ]
        }
      ],
      "source": [
        "file_path = \"/content/drive/MyDrive/NLPPROJECT/test/VAE_Reconstruction.csv\"\n",
        "out_path = \"/content/drive/MyDrive/NLPPROJECT/test/VAE_Reconstruction_evaluated.csv\"\n",
        "\n",
        "data = []\n",
        "with open(file_path, \"r\") as csvfile:\n",
        "  reader = csv.reader(csvfile)\n",
        "\n",
        "  for row in reader:\n",
        "    data.append(row)\n",
        "  \n",
        "# column names\n",
        "in_header = data[0]\n",
        "del data[0]\n",
        "\n",
        "out_header = [*in_header, \"cp\", \"lf\", \"gm\"]\n",
        "with open(out_path, \"w\", newline=\"\") as csvfile:\n",
        "    writer = csv.writer(csvfile)\n",
        "    writer.writerow(out_header)\n",
        "\n",
        "out_data = []\n",
        "for i, example in enumerate(tqdm(data)):\n",
        "  orig_text, orig_label, tran_text = example\n",
        "  tran_label = \"pos\" if orig_label == \"neg\" else \"neg\"\n",
        "\n",
        "  scores = em.score(tran_text, tran_label, orig_text, st=False)\n",
        "  out_data.append([*example, *scores.values()])\n",
        "\n",
        "  if (i+1) % 50 == 0:\n",
        "    with open(out_path, \"a\", newline=\"\") as csvfile:\n",
        "      writer = csv.writer(csvfile)\n",
        "      writer.writerows(out_data)\n",
        "    out_data = []\n",
        "\n",
        "with open(out_path, \"a\", newline=\"\") as csvfile:\n",
        "  writer = csv.writer(csvfile)\n",
        "  writer.writerows(out_data)"
      ]
    },
    {
      "cell_type": "code",
      "execution_count": null,
      "metadata": {
        "colab": {
          "background_save": true,
          "base_uri": "https://localhost:8080/"
        },
        "id": "RqvAgE-Hewee",
        "outputId": "2ea3ffc1-86ef-48cf-995b-8c8b91a1b757"
      },
      "outputs": [
        {
          "name": "stderr",
          "output_type": "stream",
          "text": [
            "100%|██████████| 713/713 [16:49<00:00,  1.42s/it]\n"
          ]
        }
      ],
      "source": [
        "file_path = \"/content/drive/MyDrive/NLPPROJECT/test/VAE_CF_StyleTransfer.csv\"\n",
        "out_path = \"/content/drive/MyDrive/NLPPROJECT/test/VAE_CF_StyleTransfer_evaluated.csv\"\n",
        "\n",
        "data = []\n",
        "with open(file_path, \"r\") as csvfile:\n",
        "  reader = csv.reader(csvfile)\n",
        "\n",
        "  for row in reader:\n",
        "    data.append(row)\n",
        "  \n",
        "# column names\n",
        "in_header = data[0]\n",
        "del data[0]\n",
        "\n",
        "out_header = [*in_header, \"st\", \"cp\", \"lf\", \"gm\"]\n",
        "with open(out_path, \"w\", newline=\"\") as csvfile:\n",
        "    writer = csv.writer(csvfile)\n",
        "    writer.writerow(out_header)\n",
        "\n",
        "out_data = []\n",
        "for i, example in enumerate(tqdm(data)):\n",
        "  orig_text, orig_label, tran_text = example\n",
        "  tran_label = \"pos\" if orig_label == \"neg\" else \"neg\"\n",
        "\n",
        "  scores = em.score(tran_text, tran_label, orig_text)\n",
        "  out_data.append([*example, *scores.values()])\n",
        "\n",
        "  if (i+1) % 50 == 0 or i:\n",
        "    with open(out_path, \"a\", newline=\"\") as csvfile:\n",
        "      writer = csv.writer(csvfile)\n",
        "      writer.writerows(out_data)\n",
        "    out_data = []\n",
        "\n",
        "\n",
        "with open(out_path, \"a\", newline=\"\") as csvfile:\n",
        "  writer = csv.writer(csvfile)\n",
        "  writer.writerows(out_data)"
      ]
    },
    {
      "cell_type": "markdown",
      "source": [
        "## Some LLM Outputs contained artifacts such as \"->\" or \"=>\" or \"→\". Therefore, re-evaluating such outputs after removing these characters."
      ],
      "metadata": {
        "id": "KlV-IIpjtjv-"
      }
    },
    {
      "cell_type": "code",
      "source": [
        "fs_path = \"/content/drive/MyDrive/NLPPROJECT/test/llm_few_shot_outputs_evaluated_fixed.csv\"\n",
        "df = pd.read_csv(fs_path)\n",
        "\n",
        "rows = df[df[\"pred\"].str.contains(\"→\")].values\n",
        "outs = []\n",
        "for row in tqdm(rows):\n",
        "  orig_text = row[0]\n",
        "  tran_label = \"neg\" if row[1] == \"pos\" else \"pos\"\n",
        "  tran_text = row[2].split(\"→ \")[1]\n",
        "\n",
        "  scores = em.score(tran_text, tran_label, orig_text)\n",
        "\n",
        "  cur_out = [row[0], row[1], tran_text, *scores.values()]\n",
        "  outs.append(cur_out)\n",
        "\n",
        "df[df[\"pred\"].str.contains(\"→\")] = outs\n",
        "df.to_csv(fs_path, index=False)"
      ],
      "metadata": {
        "id": "ohzrOiyVpcID",
        "colab": {
          "base_uri": "https://localhost:8080/"
        },
        "outputId": "d5730f8f-69b8-41b0-cfc3-9e6fa7223129"
      },
      "execution_count": null,
      "outputs": [
        {
          "output_type": "stream",
          "name": "stderr",
          "text": [
            "100%|██████████| 2/2 [00:03<00:00,  1.75s/it]\n"
          ]
        }
      ]
    },
    {
      "cell_type": "code",
      "source": [
        "zs_path = \"/content/drive/MyDrive/NLPPROJECT/test/llm_zero_shot_outputs_evaluated_fixed.csv\"\n",
        "df = pd.read_csv(zs_path)\n",
        "\n",
        "rows = df[df[\"pred\"].str.contains(\"→\")].values\n",
        "\n",
        "outs = []\n",
        "for row in tqdm(rows):\n",
        "  orig_text = row[0]\n",
        "  tran_label = \"neg\" if row[1] == \"pos\" else \"pos\"\n",
        "  tran_text = row[2].split(\"→ \")[1]\n",
        "\n",
        "  scores = em.score(tran_text, tran_label, orig_text)\n",
        "\n",
        "  cur_out = [row[0], row[1], tran_text, *scores.values()]\n",
        "  outs.append(cur_out)\n",
        "\n",
        "df[df[\"pred\"].str.contains(\"→\")] = outs\n",
        "df.to_csv(zs_path, index=False)"
      ],
      "metadata": {
        "colab": {
          "base_uri": "https://localhost:8080/"
        },
        "id": "HGAm6vc8teLG",
        "outputId": "d5e07c1b-b568-4ee1-a299-3b8a7a9b4e59"
      },
      "execution_count": null,
      "outputs": [
        {
          "output_type": "stream",
          "name": "stderr",
          "text": [
            "100%|██████████| 9/9 [00:14<00:00,  1.58s/it]\n"
          ]
        }
      ]
    },
    {
      "cell_type": "markdown",
      "source": [
        "# Compiling the results"
      ],
      "metadata": {
        "id": "KYRc12Gxq3Q3"
      }
    },
    {
      "cell_type": "code",
      "source": [
        "zs_data = pd.read_csv(\"/content/drive/MyDrive/NLPPROJECT/test/llm_zero_shot_outputs_evaluated_fixed.csv\")\n",
        "zs_data.drop([\"label\", \"pred\"], axis=1, inplace=True)\n",
        "vr_data = pd.read_csv(\"/content/drive/MyDrive/NLPPROJECT/test/VAE_Reconstruction_evaluated.csv\")\n",
        "vr_data.drop([\"label\", \"pred\"], axis=1, inplace=True)\n",
        "vs_data = pd.read_csv(\"/content/drive/MyDrive/NLPPROJECT/test/VAE_StyleTransfer_evaluated.csv\")\n",
        "vs_data.drop([\"label\", \"pred\"], axis=1, inplace=True)\n",
        "vs_data[\"input\"] = vs_data[\"input\"].str.replace(\"\\n\", \"\")\n",
        "cf_data = pd.read_csv(\"/content/drive/MyDrive/NLPPROJECT/test/VAE_CF_StyleTransfer_evaluated.csv\")\n",
        "cf_data.drop([\"label\", \"pred\"], axis=1, inplace=True)\n",
        "cf_data[\"input\"] = cf_data[\"input\"].str.replace(\"\\n\", \"\")\n",
        "fs_data = pd.read_csv(\"/content/drive/MyDrive/NLPPROJECT/test/llm_few_shot_outputs_evaluated_fixed.csv\")\n",
        "fs_data.drop([\"label\", \"pred\"], axis=1, inplace=True)"
      ],
      "metadata": {
        "id": "TBSelVWMq2qZ"
      },
      "execution_count": null,
      "outputs": []
    },
    {
      "cell_type": "code",
      "source": [
        "zs_results = zs_data[\"st\"].median(), zs_data[\"cp\"].median(), 1/zs_data[\"lf\"].median(), zs_data[\"gm\"].median()\n",
        "vr_results = 0, vr_data[\"cp\"].median(), 1/vr_data[\"lf\"].median(), vr_data[\"gm\"].median()\n",
        "vs_results = vs_data[\"st\"].median(), vs_data[\"cp\"].median(), 1/vs_data[\"lf\"].median(), vs_data[\"gm\"].median()\n",
        "cf_results = cf_data[\"st\"].median(), cf_data[\"cp\"].median(), 1/cf_data[\"lf\"].median(), cf_data[\"gm\"].median()\n",
        "fs_results = fs_data[\"st\"].median(), fs_data[\"cp\"].median(), 1/fs_data[\"lf\"].median(), fs_data[\"gm\"].median()\n",
        "\n",
        "df = pd.DataFrame(columns=[\"Model\", \"st\", \"cp\", \"lf\", \"gm\"])\n",
        "\n",
        "\n",
        "df.loc[len(df)] = [\"Zero-Shot LLM\", *zs_results]\n",
        "# df.loc[len(df)] = [\"VAE_Reconstruction\", *vr_results]\n",
        "df.loc[len(df)] = [\"VAE Style Transfer\", *vs_results]\n",
        "df.loc[len(df)] = [\"Counterfactuals\", *cf_results]\n",
        "df.loc[len(df)] = [\"Few-Shot LLM\", *fs_results]\n",
        "\n",
        "print(\"MEDIAN:\")\n",
        "# df.sort_values(\"gm\", inplace=True)\n",
        "df.round(3).head()"
      ],
      "metadata": {
        "colab": {
          "base_uri": "https://localhost:8080/",
          "height": 192
        },
        "id": "Wdgc5YUSI6qn",
        "outputId": "90f9a124-1cb3-476b-c8f3-75380b963e41"
      },
      "execution_count": null,
      "outputs": [
        {
          "output_type": "stream",
          "name": "stdout",
          "text": [
            "MEDIAN:\n"
          ]
        },
        {
          "output_type": "execute_result",
          "data": {
            "text/plain": [
              "                Model     st     cp     lf     gm\n",
              "0       Zero-Shot LLM  0.765  0.800  0.009  0.104\n",
              "1  VAE Style Transfer  0.186  0.333  0.025  0.035\n",
              "2     Counterfactuals  0.001  0.333  0.028  0.013\n",
              "3        Few-Shot LLM  0.963  0.750  0.006  0.099"
            ],
            "text/html": [
              "\n",
              "  <div id=\"df-d87f736f-dc5e-499f-91ce-39ab2fdc94b0\">\n",
              "    <div class=\"colab-df-container\">\n",
              "      <div>\n",
              "<style scoped>\n",
              "    .dataframe tbody tr th:only-of-type {\n",
              "        vertical-align: middle;\n",
              "    }\n",
              "\n",
              "    .dataframe tbody tr th {\n",
              "        vertical-align: top;\n",
              "    }\n",
              "\n",
              "    .dataframe thead th {\n",
              "        text-align: right;\n",
              "    }\n",
              "</style>\n",
              "<table border=\"1\" class=\"dataframe\">\n",
              "  <thead>\n",
              "    <tr style=\"text-align: right;\">\n",
              "      <th></th>\n",
              "      <th>Model</th>\n",
              "      <th>st</th>\n",
              "      <th>cp</th>\n",
              "      <th>lf</th>\n",
              "      <th>gm</th>\n",
              "    </tr>\n",
              "  </thead>\n",
              "  <tbody>\n",
              "    <tr>\n",
              "      <th>0</th>\n",
              "      <td>Zero-Shot LLM</td>\n",
              "      <td>0.765</td>\n",
              "      <td>0.800</td>\n",
              "      <td>0.009</td>\n",
              "      <td>0.104</td>\n",
              "    </tr>\n",
              "    <tr>\n",
              "      <th>1</th>\n",
              "      <td>VAE Style Transfer</td>\n",
              "      <td>0.186</td>\n",
              "      <td>0.333</td>\n",
              "      <td>0.025</td>\n",
              "      <td>0.035</td>\n",
              "    </tr>\n",
              "    <tr>\n",
              "      <th>2</th>\n",
              "      <td>Counterfactuals</td>\n",
              "      <td>0.001</td>\n",
              "      <td>0.333</td>\n",
              "      <td>0.028</td>\n",
              "      <td>0.013</td>\n",
              "    </tr>\n",
              "    <tr>\n",
              "      <th>3</th>\n",
              "      <td>Few-Shot LLM</td>\n",
              "      <td>0.963</td>\n",
              "      <td>0.750</td>\n",
              "      <td>0.006</td>\n",
              "      <td>0.099</td>\n",
              "    </tr>\n",
              "  </tbody>\n",
              "</table>\n",
              "</div>\n",
              "      <button class=\"colab-df-convert\" onclick=\"convertToInteractive('df-d87f736f-dc5e-499f-91ce-39ab2fdc94b0')\"\n",
              "              title=\"Convert this dataframe to an interactive table.\"\n",
              "              style=\"display:none;\">\n",
              "        \n",
              "  <svg xmlns=\"http://www.w3.org/2000/svg\" height=\"24px\"viewBox=\"0 0 24 24\"\n",
              "       width=\"24px\">\n",
              "    <path d=\"M0 0h24v24H0V0z\" fill=\"none\"/>\n",
              "    <path d=\"M18.56 5.44l.94 2.06.94-2.06 2.06-.94-2.06-.94-.94-2.06-.94 2.06-2.06.94zm-11 1L8.5 8.5l.94-2.06 2.06-.94-2.06-.94L8.5 2.5l-.94 2.06-2.06.94zm10 10l.94 2.06.94-2.06 2.06-.94-2.06-.94-.94-2.06-.94 2.06-2.06.94z\"/><path d=\"M17.41 7.96l-1.37-1.37c-.4-.4-.92-.59-1.43-.59-.52 0-1.04.2-1.43.59L10.3 9.45l-7.72 7.72c-.78.78-.78 2.05 0 2.83L4 21.41c.39.39.9.59 1.41.59.51 0 1.02-.2 1.41-.59l7.78-7.78 2.81-2.81c.8-.78.8-2.07 0-2.86zM5.41 20L4 18.59l7.72-7.72 1.47 1.35L5.41 20z\"/>\n",
              "  </svg>\n",
              "      </button>\n",
              "      \n",
              "  <style>\n",
              "    .colab-df-container {\n",
              "      display:flex;\n",
              "      flex-wrap:wrap;\n",
              "      gap: 12px;\n",
              "    }\n",
              "\n",
              "    .colab-df-convert {\n",
              "      background-color: #E8F0FE;\n",
              "      border: none;\n",
              "      border-radius: 50%;\n",
              "      cursor: pointer;\n",
              "      display: none;\n",
              "      fill: #1967D2;\n",
              "      height: 32px;\n",
              "      padding: 0 0 0 0;\n",
              "      width: 32px;\n",
              "    }\n",
              "\n",
              "    .colab-df-convert:hover {\n",
              "      background-color: #E2EBFA;\n",
              "      box-shadow: 0px 1px 2px rgba(60, 64, 67, 0.3), 0px 1px 3px 1px rgba(60, 64, 67, 0.15);\n",
              "      fill: #174EA6;\n",
              "    }\n",
              "\n",
              "    [theme=dark] .colab-df-convert {\n",
              "      background-color: #3B4455;\n",
              "      fill: #D2E3FC;\n",
              "    }\n",
              "\n",
              "    [theme=dark] .colab-df-convert:hover {\n",
              "      background-color: #434B5C;\n",
              "      box-shadow: 0px 1px 3px 1px rgba(0, 0, 0, 0.15);\n",
              "      filter: drop-shadow(0px 1px 2px rgba(0, 0, 0, 0.3));\n",
              "      fill: #FFFFFF;\n",
              "    }\n",
              "  </style>\n",
              "\n",
              "      <script>\n",
              "        const buttonEl =\n",
              "          document.querySelector('#df-d87f736f-dc5e-499f-91ce-39ab2fdc94b0 button.colab-df-convert');\n",
              "        buttonEl.style.display =\n",
              "          google.colab.kernel.accessAllowed ? 'block' : 'none';\n",
              "\n",
              "        async function convertToInteractive(key) {\n",
              "          const element = document.querySelector('#df-d87f736f-dc5e-499f-91ce-39ab2fdc94b0');\n",
              "          const dataTable =\n",
              "            await google.colab.kernel.invokeFunction('convertToInteractive',\n",
              "                                                     [key], {});\n",
              "          if (!dataTable) return;\n",
              "\n",
              "          const docLinkHtml = 'Like what you see? Visit the ' +\n",
              "            '<a target=\"_blank\" href=https://colab.research.google.com/notebooks/data_table.ipynb>data table notebook</a>'\n",
              "            + ' to learn more about interactive tables.';\n",
              "          element.innerHTML = '';\n",
              "          dataTable['output_type'] = 'display_data';\n",
              "          await google.colab.output.renderOutput(dataTable, element);\n",
              "          const docLink = document.createElement('div');\n",
              "          docLink.innerHTML = docLinkHtml;\n",
              "          element.appendChild(docLink);\n",
              "        }\n",
              "      </script>\n",
              "    </div>\n",
              "  </div>\n",
              "  "
            ]
          },
          "metadata": {},
          "execution_count": 126
        }
      ]
    },
    {
      "cell_type": "code",
      "source": [
        "df1 = pd.merge(zs_data, vs_data, on=\"input\", how=\"inner\", suffixes=(\"_zs\", \"_vae\"))\n",
        "df2 = pd.merge(cf_data, fs_data, on=\"input\", how=\"inner\", suffixes=(\"_cf\", \"_fs\"))\n",
        "\n",
        "df = pd.merge(df1, df2, on='input', how=\"inner\")\n",
        "df.replace([np.inf, -np.inf], np.nan, inplace=True)\n",
        "\n",
        "# Drop rows with NaN\n",
        "df.dropna(inplace=True)\n",
        "non_inf_df = df\n",
        "\n",
        "means = non_inf_df.drop(labels=[\"input\"], axis=1).mean().values\n",
        "\n",
        "means[2] = 1/means[2]\n",
        "means[6] = 1/means[6]\n",
        "means[10] = 1/means[10]\n",
        "means[14] = 1/means[14]\n",
        "\n",
        "non_inf_means = pd.DataFrame(columns=[\"Model\", \"st\", \"cp\", \"lf\", \"gm\"])\n",
        "non_inf_means.loc[len(non_inf_means)] = [\"Zero-Shot LLM\", *means[:4]]\n",
        "non_inf_means.loc[len(non_inf_means)] = [\"VAE Style-Transfer\", *means[4:8]]\n",
        "non_inf_means.loc[len(non_inf_means)] = [\"Counterfactuals\", *means[8:12]]\n",
        "non_inf_means.loc[len(non_inf_means)] = [\"Few-Shot LLM\", *means[12:16]]\n",
        "\n",
        "non_inf_means.round(3).head()"
      ],
      "metadata": {
        "colab": {
          "base_uri": "https://localhost:8080/",
          "height": 175
        },
        "id": "FoaD-blMe2RW",
        "outputId": "da1ef3fa-207f-4312-d81f-96214669c80d"
      },
      "execution_count": null,
      "outputs": [
        {
          "output_type": "execute_result",
          "data": {
            "text/plain": [
              "                Model     st     cp     lf     gm\n",
              "0       Zero-Shot LLM  0.524  0.829  0.011  0.201\n",
              "1  VAE Style-Transfer  0.197  0.721  0.025  0.056\n",
              "2     Counterfactuals  0.060  0.729  0.029  0.035\n",
              "3        Few-Shot LLM  0.912  0.829  0.012  0.316"
            ],
            "text/html": [
              "\n",
              "  <div id=\"df-9fc409c8-4742-4fc7-b4a7-81b8ef43e985\">\n",
              "    <div class=\"colab-df-container\">\n",
              "      <div>\n",
              "<style scoped>\n",
              "    .dataframe tbody tr th:only-of-type {\n",
              "        vertical-align: middle;\n",
              "    }\n",
              "\n",
              "    .dataframe tbody tr th {\n",
              "        vertical-align: top;\n",
              "    }\n",
              "\n",
              "    .dataframe thead th {\n",
              "        text-align: right;\n",
              "    }\n",
              "</style>\n",
              "<table border=\"1\" class=\"dataframe\">\n",
              "  <thead>\n",
              "    <tr style=\"text-align: right;\">\n",
              "      <th></th>\n",
              "      <th>Model</th>\n",
              "      <th>st</th>\n",
              "      <th>cp</th>\n",
              "      <th>lf</th>\n",
              "      <th>gm</th>\n",
              "    </tr>\n",
              "  </thead>\n",
              "  <tbody>\n",
              "    <tr>\n",
              "      <th>0</th>\n",
              "      <td>Zero-Shot LLM</td>\n",
              "      <td>0.524</td>\n",
              "      <td>0.829</td>\n",
              "      <td>0.011</td>\n",
              "      <td>0.201</td>\n",
              "    </tr>\n",
              "    <tr>\n",
              "      <th>1</th>\n",
              "      <td>VAE Style-Transfer</td>\n",
              "      <td>0.197</td>\n",
              "      <td>0.721</td>\n",
              "      <td>0.025</td>\n",
              "      <td>0.056</td>\n",
              "    </tr>\n",
              "    <tr>\n",
              "      <th>2</th>\n",
              "      <td>Counterfactuals</td>\n",
              "      <td>0.060</td>\n",
              "      <td>0.729</td>\n",
              "      <td>0.029</td>\n",
              "      <td>0.035</td>\n",
              "    </tr>\n",
              "    <tr>\n",
              "      <th>3</th>\n",
              "      <td>Few-Shot LLM</td>\n",
              "      <td>0.912</td>\n",
              "      <td>0.829</td>\n",
              "      <td>0.012</td>\n",
              "      <td>0.316</td>\n",
              "    </tr>\n",
              "  </tbody>\n",
              "</table>\n",
              "</div>\n",
              "      <button class=\"colab-df-convert\" onclick=\"convertToInteractive('df-9fc409c8-4742-4fc7-b4a7-81b8ef43e985')\"\n",
              "              title=\"Convert this dataframe to an interactive table.\"\n",
              "              style=\"display:none;\">\n",
              "        \n",
              "  <svg xmlns=\"http://www.w3.org/2000/svg\" height=\"24px\"viewBox=\"0 0 24 24\"\n",
              "       width=\"24px\">\n",
              "    <path d=\"M0 0h24v24H0V0z\" fill=\"none\"/>\n",
              "    <path d=\"M18.56 5.44l.94 2.06.94-2.06 2.06-.94-2.06-.94-.94-2.06-.94 2.06-2.06.94zm-11 1L8.5 8.5l.94-2.06 2.06-.94-2.06-.94L8.5 2.5l-.94 2.06-2.06.94zm10 10l.94 2.06.94-2.06 2.06-.94-2.06-.94-.94-2.06-.94 2.06-2.06.94z\"/><path d=\"M17.41 7.96l-1.37-1.37c-.4-.4-.92-.59-1.43-.59-.52 0-1.04.2-1.43.59L10.3 9.45l-7.72 7.72c-.78.78-.78 2.05 0 2.83L4 21.41c.39.39.9.59 1.41.59.51 0 1.02-.2 1.41-.59l7.78-7.78 2.81-2.81c.8-.78.8-2.07 0-2.86zM5.41 20L4 18.59l7.72-7.72 1.47 1.35L5.41 20z\"/>\n",
              "  </svg>\n",
              "      </button>\n",
              "      \n",
              "  <style>\n",
              "    .colab-df-container {\n",
              "      display:flex;\n",
              "      flex-wrap:wrap;\n",
              "      gap: 12px;\n",
              "    }\n",
              "\n",
              "    .colab-df-convert {\n",
              "      background-color: #E8F0FE;\n",
              "      border: none;\n",
              "      border-radius: 50%;\n",
              "      cursor: pointer;\n",
              "      display: none;\n",
              "      fill: #1967D2;\n",
              "      height: 32px;\n",
              "      padding: 0 0 0 0;\n",
              "      width: 32px;\n",
              "    }\n",
              "\n",
              "    .colab-df-convert:hover {\n",
              "      background-color: #E2EBFA;\n",
              "      box-shadow: 0px 1px 2px rgba(60, 64, 67, 0.3), 0px 1px 3px 1px rgba(60, 64, 67, 0.15);\n",
              "      fill: #174EA6;\n",
              "    }\n",
              "\n",
              "    [theme=dark] .colab-df-convert {\n",
              "      background-color: #3B4455;\n",
              "      fill: #D2E3FC;\n",
              "    }\n",
              "\n",
              "    [theme=dark] .colab-df-convert:hover {\n",
              "      background-color: #434B5C;\n",
              "      box-shadow: 0px 1px 3px 1px rgba(0, 0, 0, 0.15);\n",
              "      filter: drop-shadow(0px 1px 2px rgba(0, 0, 0, 0.3));\n",
              "      fill: #FFFFFF;\n",
              "    }\n",
              "  </style>\n",
              "\n",
              "      <script>\n",
              "        const buttonEl =\n",
              "          document.querySelector('#df-9fc409c8-4742-4fc7-b4a7-81b8ef43e985 button.colab-df-convert');\n",
              "        buttonEl.style.display =\n",
              "          google.colab.kernel.accessAllowed ? 'block' : 'none';\n",
              "\n",
              "        async function convertToInteractive(key) {\n",
              "          const element = document.querySelector('#df-9fc409c8-4742-4fc7-b4a7-81b8ef43e985');\n",
              "          const dataTable =\n",
              "            await google.colab.kernel.invokeFunction('convertToInteractive',\n",
              "                                                     [key], {});\n",
              "          if (!dataTable) return;\n",
              "\n",
              "          const docLinkHtml = 'Like what you see? Visit the ' +\n",
              "            '<a target=\"_blank\" href=https://colab.research.google.com/notebooks/data_table.ipynb>data table notebook</a>'\n",
              "            + ' to learn more about interactive tables.';\n",
              "          element.innerHTML = '';\n",
              "          dataTable['output_type'] = 'display_data';\n",
              "          await google.colab.output.renderOutput(dataTable, element);\n",
              "          const docLink = document.createElement('div');\n",
              "          docLink.innerHTML = docLinkHtml;\n",
              "          element.appendChild(docLink);\n",
              "        }\n",
              "      </script>\n",
              "    </div>\n",
              "  </div>\n",
              "  "
            ]
          },
          "metadata": {},
          "execution_count": 129
        }
      ]
    },
    {
      "cell_type": "code",
      "source": [],
      "metadata": {
        "id": "Cf-fif6XlYEe"
      },
      "execution_count": null,
      "outputs": []
    }
  ],
  "metadata": {
    "colab": {
      "provenance": []
    },
    "kernelspec": {
      "display_name": "Python 3",
      "name": "python3"
    },
    "language_info": {
      "name": "python"
    }
  },
  "nbformat": 4,
  "nbformat_minor": 0
}