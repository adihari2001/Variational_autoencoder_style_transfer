{
  "nbformat": 4,
  "nbformat_minor": 0,
  "metadata": {
    "colab": {
      "provenance": []
    },
    "kernelspec": {
      "name": "python3",
      "display_name": "Python 3"
    },
    "language_info": {
      "name": "python"
    }
  },
  "cells": [
    {
      "cell_type": "markdown",
      "source": [
        "DATASET PATHS AND PARAMETERS"
      ],
      "metadata": {
        "id": "CJZuhranf9FG"
      }
    },
    {
      "cell_type": "markdown",
      "source": [
        "TRAINING DATASET PATHS AND PARAMETERS"
      ],
      "metadata": {
        "id": "2JPXFt5Uh9LE"
      }
    },
    {
      "cell_type": "code",
      "source": [
        "test_text_file_path = \"/content/drive/MyDrive/NLPPROJECT/yelp_train_data.txt\"\n",
        "test_labels_file_path = \"/content/drive/MyDrive/NLPPROJECT/yelp_train_labels.txt\"\n",
        "vocab_size = 9372\n",
        "vocab_save_path = \"/content/drive/MyDrive/NLPPROJECT/\"\n",
        "predefined_word_index = {\n",
        "            \"<pad>\": 0,\n",
        "            \"<sos>\": 1,\n",
        "            \"<unk>\": 2,\n",
        "        }\n",
        "filter_sentiment_words = True\n",
        "filter_stopwords = True\n",
        "embedding_size = 300\n",
        "word_embedding_text_file_path = \"/content/drive/MyDrive/NLPPROJECT/embedding.txt\"\n",
        "word_embedding_path = \"/content/drive/MyDrive/NLPPROJECT/word_embeddings.npy\"\n",
        "w2i_file_path = \"/content/drive/MyDrive/NLPPROJECT/word2index.json\"\n",
        "bow_file_path = \"/content/drive/MyDrive/NLPPROJECT/bow.json\"\n",
        "pad_token = 0\n",
        "sos_token = 1\n",
        "unk_token = 2\n",
        "max_seq_len = 20\n",
        "bow_hidden_dim = 8397"
      ],
      "metadata": {
        "id": "7_25xDebhiiH"
      },
      "execution_count": null,
      "outputs": []
    },
    {
      "cell_type": "code",
      "source": [
        "test_pos_reviews_file_path = \"/content/drive/MyDrive/NLPPROJECT/sentiment.train.1.txt\"\n",
        "test_neg_reviews_file_path = \"/content/drive/MyDrive/NLPPROJECT/sentiment.train.0.txt\"\n",
        "pos_sentiment_file_path = \"/content/drive/MyDrive/NLPPROJECT/positive-words.txt\"\n",
        "neg_sentiment_file_path = \"/content/drive/MyDrive/NLPPROJECT/negative-words.txt\""
      ],
      "metadata": {
        "id": "TLHKQ3N2hjKN"
      },
      "execution_count": null,
      "outputs": []
    },
    {
      "cell_type": "markdown",
      "source": [
        "VALIDATION DATASET PATHS AND PARAMETERS"
      ],
      "metadata": {
        "id": "J-l116n_iCSa"
      }
    },
    {
      "cell_type": "code",
      "source": [
        "# test_text_file_path = \"/content/drive/MyDrive/NLPPROJECT/val/yelp_train_data.txt\"\n",
        "# test_labels_file_path = \"/content/drive/MyDrive/NLPPROJECT/val/yelp_train_labels.txt\"\n",
        "# vocab_size = 6445\n",
        "# vocab_save_path = \"/content/drive/MyDrive/NLPPROJECT/val\"\n",
        "# predefined_word_index = {\n",
        "#             \"<pad>\": 0,\n",
        "#             \"<sos>\": 1,\n",
        "#             \"<unk>\": 2,\n",
        "#         }\n",
        "# filter_sentiment_words = True\n",
        "# filter_stopwords = True\n",
        "# embedding_size = 300\n",
        "# word_embedding_text_file_path = \"/content/drive/MyDrive/NLPPROJECT/val/embedding.txt\"\n",
        "# word_embedding_path = \"/content/drive/MyDrive/NLPPROJECT/val/word_embeddings.npy\"\n",
        "# w2i_file_path = \"/content/drive/MyDrive/NLPPROJECT/val/word2index.json\"\n",
        "# bow_file_path = \"/content/drive/MyDrive/NLPPROJECT/val/bow.json\"\n",
        "# pad_token = 0\n",
        "# sos_token = 1\n",
        "# unk_token = 2\n",
        "# max_seq_len = 20\n",
        "# bow_hidden_dim = 5599"
      ],
      "metadata": {
        "id": "2WXTabe1hoFl"
      },
      "execution_count": null,
      "outputs": []
    },
    {
      "cell_type": "code",
      "source": [
        "# test_pos_reviews_file_path = \"/content/drive/MyDrive/NLPPROJECT/val/sentiment.dev.1\"\n",
        "# test_neg_reviews_file_path = \"/content/drive/MyDrive/NLPPROJECT/val/sentiment.dev.1\"\n",
        "# pos_sentiment_file_path = \"/content/drive/MyDrive/NLPPROJECT/val/positive-words.txt\"\n",
        "# neg_sentiment_file_path = \"/content/drive/MyDrive/NLPPROJECT/val/negative-words.txt\""
      ],
      "metadata": {
        "id": "v7pD72UlhoJM"
      },
      "execution_count": null,
      "outputs": []
    },
    {
      "cell_type": "markdown",
      "source": [
        "TESTING DATASET PATHS AND PARAMETERS"
      ],
      "metadata": {
        "id": "P0VB3lc-iEry"
      }
    },
    {
      "cell_type": "code",
      "execution_count": null,
      "metadata": {
        "id": "KXRC2ezvCqFn"
      },
      "outputs": [],
      "source": [
        "# test_text_file_path = \"/content/drive/MyDrive/NLPPROJECT/test/yelp_test_data.txt\"\n",
        "# test_labels_file_path = \"/content/drive/MyDrive/NLPPROJECT/test/yelp_test_labels.txt\"\n",
        "# vocab_size = 7724\n",
        "# vocab_save_path = \"/content/drive/MyDrive/NLPPROJECT/test\"\n",
        "# predefined_word_index = {\n",
        "#             \"<pad>\": 0,\n",
        "#             \"<sos>\": 1,\n",
        "#             \"<unk>\": 2,\n",
        "#         }\n",
        "# filter_sentiment_words = True\n",
        "# filter_stopwords = True\n",
        "# embedding_size = 300\n",
        "# word_embedding_text_file_path = \"/content/drive/MyDrive/NLPPROJECT/test/embedding.txt\"\n",
        "# word_embedding_path = \"/content/drive/MyDrive/NLPPROJECT/test/word_embeddings.npy\"\n",
        "# w2i_file_path = \"/content/drive/MyDrive/NLPPROJECT/test/word2index.json\"\n",
        "# bow_file_path = \"/content/drive/MyDrive/NLPPROJECT/test/bow.json\"\n",
        "# pad_token = 0\n",
        "# sos_token = 1\n",
        "# unk_token = 2\n",
        "# max_seq_len = 20\n",
        "# bow_hidden_dim = 6799"
      ]
    },
    {
      "cell_type": "code",
      "source": [
        "# test_pos_reviews_file_path = \"/content/drive/MyDrive/NLPPROJECT/test/sentiment.test.1\"\n",
        "# test_neg_reviews_file_path = \"/content/drive/MyDrive/NLPPROJECT/test/sentiment.test.0\"\n",
        "# pos_sentiment_file_path = \"/content/drive/MyDrive/NLPPROJECT/test/positive-words.txt\"\n",
        "# neg_sentiment_file_path = \"/content/drive/MyDrive/NLPPROJECT/test/negative-words.txt\""
      ],
      "metadata": {
        "id": "ZFoPVcdCDRq7"
      },
      "execution_count": null,
      "outputs": []
    },
    {
      "cell_type": "markdown",
      "source": [
        "DATA PREPROCESSING"
      ],
      "metadata": {
        "id": "nwK_W4-kgZ0-"
      }
    },
    {
      "cell_type": "code",
      "source": [
        "import re\n",
        "import logging\n",
        "\n",
        "\n",
        "class Preprocessor:\n",
        "    def __init__(self):\n",
        "        print(\"Preprocessor instantiated\")\n",
        "\n",
        "    def _clean_text(self, string):\n",
        "        string = string.replace(\".\", \"\").replace(\".\", \"\").replace(\"\\n\", \" \")\n",
        "        string = string.replace(\"'s\", \" is\").replace(\"'m\", \" am\").replace(\"'ve\", \" have\")\n",
        "        string = string.replace(\"n't\", \" not\").replace(\"'re\", \" are\").replace(\"'d\", \" would\")\n",
        "        string = string.replace(\"'ll\", \" will\").replace(\"\\r\", \" \").replace(\"\\n\", \" \")\n",
        "        string = re.sub(r'\\d+', \"number\", string)\n",
        "        string = ''.join(x for x in string if x.isalnum() or x == \" \")\n",
        "        string = re.sub(r'\\s{2,}', \" \", string)\n",
        "        string = string.strip().lower()\n",
        "        return string\n",
        "\n",
        "    def preprocess(self):\n",
        "        print(\"Preprocessing started\")\n",
        "        with open(test_text_file_path, 'w') as text_file, open(test_labels_file_path, 'w') as labels_file:\n",
        "            with open(test_pos_reviews_file_path, 'r') as pos_reviews_file, open(test_neg_reviews_file_path, 'r') as neg_reviews_file:\n",
        "                for line in pos_reviews_file:\n",
        "                    line = self._clean_text(line)\n",
        "                    if len(line) > 0:\n",
        "                        text_file.write(line + \"\\n\")\n",
        "                        labels_file.write(\"pos\" + \"\\n\")\n",
        "                for line in neg_reviews_file:\n",
        "                    line = self._clean_text(line)\n",
        "                    if len(line) > 0:\n",
        "                        text_file.write(line + \"\\n\")\n",
        "                        labels_file.write(\"neg\" + \"\\n\")\n",
        "        print(\"Processing complete\")\n"
      ],
      "metadata": {
        "id": "m8IaJBvrDsUC"
      },
      "execution_count": null,
      "outputs": []
    },
    {
      "cell_type": "code",
      "source": [
        "p1 = Preprocessor()\n",
        "p1.preprocess()"
      ],
      "metadata": {
        "colab": {
          "base_uri": "https://localhost:8080/"
        },
        "id": "KMtDoMCJEOOB",
        "outputId": "b60255eb-064e-4006-cf47-0814d03b71d5"
      },
      "execution_count": null,
      "outputs": [
        {
          "output_type": "stream",
          "name": "stdout",
          "text": [
            "Preprocessor instantiated\n",
            "Preprocessing started\n",
            "Processing complete\n"
          ]
        }
      ]
    },
    {
      "cell_type": "code",
      "source": [
        "file_path = \"/content/drive/MyDrive/NLPPROJECT/test/yelp_test_data.txt\"  # Replace with the actual path to your text file\n",
        "\n",
        "# Open the file in read mode\n",
        "with open(file_path, 'r') as file:\n",
        "    line_count = sum(1 for line in file)\n",
        "\n",
        "print(\"Number of lines:\", line_count)\n"
      ],
      "metadata": {
        "colab": {
          "base_uri": "https://localhost:8080/"
        },
        "id": "dQbKVlCufQnw",
        "outputId": "6ef98191-99fd-458c-d0ff-06734ab94e66"
      },
      "execution_count": null,
      "outputs": [
        {
          "output_type": "stream",
          "name": "stdout",
          "text": [
            "Number of lines: 152776\n"
          ]
        }
      ]
    },
    {
      "cell_type": "code",
      "source": [
        "import json\n",
        "import numpy as np\n",
        "import collections\n",
        "import logging\n",
        "import nltk\n",
        "from nltk.corpus import stopwords\n",
        "nltk.download('stopwords')\n",
        "from sklearn.feature_extraction import _stop_words\n",
        "from spacy.lang.en.stop_words import STOP_WORDS as spacy_stopwords\n",
        "from gensim.models import KeyedVectors"
      ],
      "metadata": {
        "colab": {
          "base_uri": "https://localhost:8080/"
        },
        "id": "G-5KFp7gEQz1",
        "outputId": "8532fe58-762a-415c-b328-0eb99c2b510c"
      },
      "execution_count": null,
      "outputs": [
        {
          "output_type": "stream",
          "name": "stderr",
          "text": [
            "[nltk_data] Downloading package stopwords to /root/nltk_data...\n",
            "[nltk_data]   Unzipping corpora/stopwords.zip.\n"
          ]
        }
      ]
    },
    {
      "cell_type": "markdown",
      "source": [
        "WORDTOVEC MODEL"
      ],
      "metadata": {
        "id": "VHpmtXnChKTU"
      }
    },
    {
      "cell_type": "code",
      "source": [
        "from gensim.models import Word2Vec\n",
        "from gensim.models.word2vec import LineSentence\n",
        "\n",
        "\n",
        "def train_word2vec_model(text_file_path, model_file_path,embedding_size):\n",
        "    print(\"Loading input file and training mode ...\")\n",
        "    model = Word2Vec(sentences=LineSentence(text_file_path),min_count=1, vector_size=embedding_size)\n",
        "    print(\"Model Details: {}\".format(model))\n",
        "    model.wv.save_word2vec_format(model_file_path, binary=False)\n",
        "    print(\"Model saved\")\n",
        "\n",
        "\n",
        "if __name__ == \"__main__\":\n",
        "    train_word2vec_model(test_text_file_path,\n",
        "                         word_embedding_text_file_path,embedding_size)"
      ],
      "metadata": {
        "colab": {
          "base_uri": "https://localhost:8080/"
        },
        "id": "IIt54OysFagu",
        "outputId": "b6677184-b2c3-4be4-e37e-d66e78f25a93"
      },
      "execution_count": null,
      "outputs": [
        {
          "output_type": "stream",
          "name": "stdout",
          "text": [
            "Loading input file and training mode ...\n",
            "Model Details: Word2Vec<vocab=8864, vector_size=300, alpha=0.025>\n",
            "Model saved\n"
          ]
        }
      ]
    },
    {
      "cell_type": "markdown",
      "source": [
        "VOCAB CREATION, INDEXTOWORD, WORDTOINDEX, WORD EMBEDDINGS, BAGOFWORDS"
      ],
      "metadata": {
        "id": "VJ_NEVFLharx"
      }
    },
    {
      "cell_type": "code",
      "source": [
        "\n",
        "\n",
        "class Vocab:\n",
        "    def __init__(self):\n",
        "        self.test_file_path = test_text_file_path\n",
        "        self.vocab_save_path = vocab_save_path\n",
        "        self.predefined_word_index = predefined_word_index\n",
        "        print(predefined_word_index)\n",
        "        self.filter_sentiment_words = filter_sentiment_words\n",
        "        self.filter_stopwords = filter_stopwords\n",
        "\n",
        "    def create_vocab(self):\n",
        "        index2word = {}\n",
        "        words = collections.Counter()\n",
        "        word2index = self.predefined_word_index\n",
        "        with open(self.test_file_path, 'r') as file:\n",
        "            lines = file.readlines()\n",
        "            for line in lines:\n",
        "                if len(line) == 0:\n",
        "                    continue\n",
        "                words.update(line.split())\n",
        "\n",
        "        words = words.most_common(vocab_size)\n",
        "        logging.debug(\"collected {} most common words\".format(vocab_size))\n",
        "\n",
        "        emb_matrix = np.zeros((vocab_size + len(predefined_word_index), embedding_size))\n",
        "        emb_matrix[:len(predefined_word_index), :] = np.random.rand(len(predefined_word_index), embedding_size)\n",
        "\n",
        "        w2v_model = KeyedVectors.load_word2vec_format(word_embedding_text_file_path)\n",
        "\n",
        "        idx = 0\n",
        "        for word, index in predefined_word_index.items():\n",
        "            word2index[word] = index\n",
        "            index2word[index] = word\n",
        "            idx += 1\n",
        "\n",
        "        for token in words:\n",
        "            if token[0] in w2v_model:\n",
        "                word2index[token[0]] = idx\n",
        "                index2word[idx] = token[0]\n",
        "                emb_matrix[idx, :] = w2v_model[token[0]]\n",
        "                idx += 1\n",
        "\n",
        "        print(\"Created embeddings\")\n",
        "        print(\"Created word2index dictionary\")\n",
        "        print(\"Created index2word dictionary\")\n",
        "\n",
        "        with open(vocab_save_path + '/word2index.json', 'w') as json_file:\n",
        "            json.dump(word2index, json_file)\n",
        "        print(\"Saved word2index.json at {}\".format(vocab_save_path+'/word2index.json'))\n",
        "\n",
        "        with open(vocab_save_path + '/index2word.json', 'w') as json_file:\n",
        "            json.dump(index2word, json_file)\n",
        "        print(\"Saved index2word.json at {}\".format(vocab_save_path+'/index2word.json'))\n",
        "\n",
        "        np.save(word_embedding_path, emb_matrix)\n",
        "\n",
        "        self._populate_word_blacklist(word2index)\n",
        "\n",
        "    def _populate_word_blacklist(self, word_index):\n",
        "        blacklisted_words = set()\n",
        "        bow_filtered_vocab_indices = {}\n",
        "\n",
        "        blacklisted_words |= set(self.predefined_word_index.values())\n",
        "        if self.filter_sentiment_words:\n",
        "            blacklisted_words |= self._get_sentiment_words()\n",
        "        if self.filter_stopwords:\n",
        "            blacklisted_words |= self._get_stopwords()\n",
        "\n",
        "        allowed_vocab = word_index.keys() - blacklisted_words\n",
        "        i = 0\n",
        "\n",
        "        for word in allowed_vocab:\n",
        "            vocab_index = word_index[word]\n",
        "            bow_filtered_vocab_indices[vocab_index] = i\n",
        "            i += 1\n",
        "\n",
        "        bow_size = len(allowed_vocab)\n",
        "        print(\"Created word index blacklist for BoW\")\n",
        "        print(\"BoW size: {}\".format(bow_size))\n",
        "\n",
        "        with open(self.vocab_save_path + '/bow.json', 'w') as json_file:\n",
        "            json.dump(bow_filtered_vocab_indices, json_file)\n",
        "        print(\"Saved bow.json at {}\".format(self.vocab_save_path+'/bow.json'))\n",
        "\n",
        "    def _get_sentiment_words(self):\n",
        "\n",
        "        with open(file=pos_sentiment_file_path,\n",
        "                  mode='r', encoding='ISO-8859-1') as pos_sentiment_words_file,\\\n",
        "            open(file=neg_sentiment_file_path,\n",
        "                 mode='r', encoding='ISO-8859-1') as neg_sentiment_words_file:\n",
        "            pos_words = pos_sentiment_words_file.readlines()\n",
        "            neg_words = neg_sentiment_words_file.readlines()\n",
        "            words = pos_words + neg_words\n",
        "        words = set(word.strip() for word in words)\n",
        "\n",
        "        return words\n",
        "\n",
        "    def _get_stopwords(self):\n",
        "        nltk_stopwords = set(stopwords.words('english'))\n",
        "        sklearn_stopwords = _stop_words.ENGLISH_STOP_WORDS\n",
        "        all_stopwords = set()\n",
        "        all_stopwords |= spacy_stopwords\n",
        "        all_stopwords |= nltk_stopwords\n",
        "        all_stopwords |= sklearn_stopwords\n",
        "\n",
        "        return all_stopwords\n",
        "\n",
        "\n",
        "if __name__ == \"__main__\":\n",
        "    vocab = Vocab()\n",
        "    vocab.create_vocab()"
      ],
      "metadata": {
        "colab": {
          "base_uri": "https://localhost:8080/"
        },
        "id": "NrO2rlfjFMMO",
        "outputId": "1ce29467-3e73-48f3-9399-438d5fd2a420"
      },
      "execution_count": null,
      "outputs": [
        {
          "output_type": "stream",
          "name": "stdout",
          "text": [
            "{'<pad>': 0, '<sos>': 1, '<unk>': 2}\n",
            "Created embeddings\n",
            "Created word2index dictionary\n",
            "Created index2word dictionary\n",
            "Saved word2index.json at /content/drive/MyDrive/NLPPROJECT/test/word2index.json\n",
            "Saved index2word.json at /content/drive/MyDrive/NLPPROJECT/test/index2word.json\n",
            "Created word index blacklist for BoW\n",
            "BoW size: 6838\n",
            "Saved bow.json at /content/drive/MyDrive/NLPPROJECT/test/bow.json\n"
          ]
        }
      ]
    },
    {
      "cell_type": "code",
      "source": [
        "import numpy as np\n",
        "\n",
        "file_path = '/content/drive/MyDrive/NLPPROJECT/test/word_embeddings.npy'\n",
        "data = np.load(file_path)\n",
        "print(data.shape)\n"
      ],
      "metadata": {
        "colab": {
          "base_uri": "https://localhost:8080/"
        },
        "id": "rPMxUmO7IJ1k",
        "outputId": "cde76738-b713-4a47-ce3e-4cf607e2a4a1"
      },
      "execution_count": null,
      "outputs": [
        {
          "output_type": "stream",
          "name": "stdout",
          "text": [
            "(7727, 300)\n"
          ]
        }
      ]
    },
    {
      "cell_type": "markdown",
      "source": [
        "PLOTS"
      ],
      "metadata": {
        "id": "hktwZG8m0fXY"
      }
    },
    {
      "cell_type": "code",
      "source": [
        "import matplotlib.pyplot as plt\n",
        "from sklearn.manifold import TSNE\n",
        "import pandas as pd"
      ],
      "metadata": {
        "id": "_NuhHK2oIOHf"
      },
      "execution_count": 2,
      "outputs": []
    },
    {
      "cell_type": "code",
      "source": [
        "df = pd.read_csv('/content/drive/MyDrive/NLPPROJECT/style_embeddings_trainset.csv')\n",
        "df"
      ],
      "metadata": {
        "colab": {
          "base_uri": "https://localhost:8080/",
          "height": 505
        },
        "id": "zWI8vJAD0l9y",
        "outputId": "2dbdbf5b-edc9-4cac-b02b-87801f5c5d68"
      },
      "execution_count": 3,
      "outputs": [
        {
          "output_type": "execute_result",
          "data": {
            "text/plain": [
              "        -5.706268583530877  -5.646945160082902  -5.455389131399159  \\\n",
              "0            -5.742304e+00       -7.056127e+00           -6.213337   \n",
              "1            -6.784789e+00       -7.050390e+00           -4.720304   \n",
              "2            -5.222543e+00       -7.119459e+00           -5.181002   \n",
              "3            -1.195012e-06       -1.468075e+00            7.179686   \n",
              "4            -5.736304e+00       -6.384579e+00           -4.888939   \n",
              "...                    ...                 ...                 ...   \n",
              "444075        7.382988e+00        2.953175e-06            7.637744   \n",
              "444076        1.185719e+00       -4.771903e+00           -4.578575   \n",
              "444077        5.250651e-09        1.570466e-08            5.852097   \n",
              "444078        2.113426e-07        5.561762e-01           -0.203386   \n",
              "444079        1.185719e+00       -4.848783e+00           -4.486514   \n",
              "\n",
              "        3.344662981871557e-07  -5.647819610807018  -5.119104312187659  \\\n",
              "0                1.330374e-06           -4.487894       -7.354101e+00   \n",
              "1                5.159748e+00           -5.029450       -5.726657e+00   \n",
              "2                5.833159e+00           -3.720447       -5.414867e+00   \n",
              "3               -7.483056e+00            6.867135       -1.627890e-04   \n",
              "4                9.287831e-07           -5.338259       -4.482858e+00   \n",
              "...                       ...                 ...                 ...   \n",
              "444075          -6.646979e+00            0.000001        7.995009e+00   \n",
              "444076           2.724414e-01           -5.204287       -5.607046e+00   \n",
              "444077          -6.842340e+00            6.421057       -5.337938e-07   \n",
              "444078           6.051237e+00           -5.480963       -5.228881e+00   \n",
              "444079           5.825054e+00           -4.464863       -5.999508e+00   \n",
              "\n",
              "        4.859780305608062  5.696445867476566  1.0  0.0  \n",
              "0            4.685566e+00           5.473059  1.0  0.0  \n",
              "1           -6.455019e-06           5.292963  1.0  0.0  \n",
              "2            4.729282e+00           6.067356  1.0  0.0  \n",
              "3           -4.347421e-01           0.000014  0.0  1.0  \n",
              "4            4.392745e+00           6.458772  1.0  0.0  \n",
              "...                   ...                ...  ...  ...  \n",
              "444075      -1.482764e-07           0.000130  0.0  1.0  \n",
              "444076       4.752218e+00           0.000105  1.0  0.0  \n",
              "444077      -6.647475e+00           0.000002  0.0  1.0  \n",
              "444078       4.844010e+00           5.354615  1.0  0.0  \n",
              "444079       4.825101e+00           6.694672  1.0  0.0  \n",
              "\n",
              "[444080 rows x 10 columns]"
            ],
            "text/html": [
              "\n",
              "  <div id=\"df-269e9cd7-0f7d-40b2-8ca0-4b79e46d7d3c\">\n",
              "    <div class=\"colab-df-container\">\n",
              "      <div>\n",
              "<style scoped>\n",
              "    .dataframe tbody tr th:only-of-type {\n",
              "        vertical-align: middle;\n",
              "    }\n",
              "\n",
              "    .dataframe tbody tr th {\n",
              "        vertical-align: top;\n",
              "    }\n",
              "\n",
              "    .dataframe thead th {\n",
              "        text-align: right;\n",
              "    }\n",
              "</style>\n",
              "<table border=\"1\" class=\"dataframe\">\n",
              "  <thead>\n",
              "    <tr style=\"text-align: right;\">\n",
              "      <th></th>\n",
              "      <th>-5.706268583530877</th>\n",
              "      <th>-5.646945160082902</th>\n",
              "      <th>-5.455389131399159</th>\n",
              "      <th>3.344662981871557e-07</th>\n",
              "      <th>-5.647819610807018</th>\n",
              "      <th>-5.119104312187659</th>\n",
              "      <th>4.859780305608062</th>\n",
              "      <th>5.696445867476566</th>\n",
              "      <th>1.0</th>\n",
              "      <th>0.0</th>\n",
              "    </tr>\n",
              "  </thead>\n",
              "  <tbody>\n",
              "    <tr>\n",
              "      <th>0</th>\n",
              "      <td>-5.742304e+00</td>\n",
              "      <td>-7.056127e+00</td>\n",
              "      <td>-6.213337</td>\n",
              "      <td>1.330374e-06</td>\n",
              "      <td>-4.487894</td>\n",
              "      <td>-7.354101e+00</td>\n",
              "      <td>4.685566e+00</td>\n",
              "      <td>5.473059</td>\n",
              "      <td>1.0</td>\n",
              "      <td>0.0</td>\n",
              "    </tr>\n",
              "    <tr>\n",
              "      <th>1</th>\n",
              "      <td>-6.784789e+00</td>\n",
              "      <td>-7.050390e+00</td>\n",
              "      <td>-4.720304</td>\n",
              "      <td>5.159748e+00</td>\n",
              "      <td>-5.029450</td>\n",
              "      <td>-5.726657e+00</td>\n",
              "      <td>-6.455019e-06</td>\n",
              "      <td>5.292963</td>\n",
              "      <td>1.0</td>\n",
              "      <td>0.0</td>\n",
              "    </tr>\n",
              "    <tr>\n",
              "      <th>2</th>\n",
              "      <td>-5.222543e+00</td>\n",
              "      <td>-7.119459e+00</td>\n",
              "      <td>-5.181002</td>\n",
              "      <td>5.833159e+00</td>\n",
              "      <td>-3.720447</td>\n",
              "      <td>-5.414867e+00</td>\n",
              "      <td>4.729282e+00</td>\n",
              "      <td>6.067356</td>\n",
              "      <td>1.0</td>\n",
              "      <td>0.0</td>\n",
              "    </tr>\n",
              "    <tr>\n",
              "      <th>3</th>\n",
              "      <td>-1.195012e-06</td>\n",
              "      <td>-1.468075e+00</td>\n",
              "      <td>7.179686</td>\n",
              "      <td>-7.483056e+00</td>\n",
              "      <td>6.867135</td>\n",
              "      <td>-1.627890e-04</td>\n",
              "      <td>-4.347421e-01</td>\n",
              "      <td>0.000014</td>\n",
              "      <td>0.0</td>\n",
              "      <td>1.0</td>\n",
              "    </tr>\n",
              "    <tr>\n",
              "      <th>4</th>\n",
              "      <td>-5.736304e+00</td>\n",
              "      <td>-6.384579e+00</td>\n",
              "      <td>-4.888939</td>\n",
              "      <td>9.287831e-07</td>\n",
              "      <td>-5.338259</td>\n",
              "      <td>-4.482858e+00</td>\n",
              "      <td>4.392745e+00</td>\n",
              "      <td>6.458772</td>\n",
              "      <td>1.0</td>\n",
              "      <td>0.0</td>\n",
              "    </tr>\n",
              "    <tr>\n",
              "      <th>...</th>\n",
              "      <td>...</td>\n",
              "      <td>...</td>\n",
              "      <td>...</td>\n",
              "      <td>...</td>\n",
              "      <td>...</td>\n",
              "      <td>...</td>\n",
              "      <td>...</td>\n",
              "      <td>...</td>\n",
              "      <td>...</td>\n",
              "      <td>...</td>\n",
              "    </tr>\n",
              "    <tr>\n",
              "      <th>444075</th>\n",
              "      <td>7.382988e+00</td>\n",
              "      <td>2.953175e-06</td>\n",
              "      <td>7.637744</td>\n",
              "      <td>-6.646979e+00</td>\n",
              "      <td>0.000001</td>\n",
              "      <td>7.995009e+00</td>\n",
              "      <td>-1.482764e-07</td>\n",
              "      <td>0.000130</td>\n",
              "      <td>0.0</td>\n",
              "      <td>1.0</td>\n",
              "    </tr>\n",
              "    <tr>\n",
              "      <th>444076</th>\n",
              "      <td>1.185719e+00</td>\n",
              "      <td>-4.771903e+00</td>\n",
              "      <td>-4.578575</td>\n",
              "      <td>2.724414e-01</td>\n",
              "      <td>-5.204287</td>\n",
              "      <td>-5.607046e+00</td>\n",
              "      <td>4.752218e+00</td>\n",
              "      <td>0.000105</td>\n",
              "      <td>1.0</td>\n",
              "      <td>0.0</td>\n",
              "    </tr>\n",
              "    <tr>\n",
              "      <th>444077</th>\n",
              "      <td>5.250651e-09</td>\n",
              "      <td>1.570466e-08</td>\n",
              "      <td>5.852097</td>\n",
              "      <td>-6.842340e+00</td>\n",
              "      <td>6.421057</td>\n",
              "      <td>-5.337938e-07</td>\n",
              "      <td>-6.647475e+00</td>\n",
              "      <td>0.000002</td>\n",
              "      <td>0.0</td>\n",
              "      <td>1.0</td>\n",
              "    </tr>\n",
              "    <tr>\n",
              "      <th>444078</th>\n",
              "      <td>2.113426e-07</td>\n",
              "      <td>5.561762e-01</td>\n",
              "      <td>-0.203386</td>\n",
              "      <td>6.051237e+00</td>\n",
              "      <td>-5.480963</td>\n",
              "      <td>-5.228881e+00</td>\n",
              "      <td>4.844010e+00</td>\n",
              "      <td>5.354615</td>\n",
              "      <td>1.0</td>\n",
              "      <td>0.0</td>\n",
              "    </tr>\n",
              "    <tr>\n",
              "      <th>444079</th>\n",
              "      <td>1.185719e+00</td>\n",
              "      <td>-4.848783e+00</td>\n",
              "      <td>-4.486514</td>\n",
              "      <td>5.825054e+00</td>\n",
              "      <td>-4.464863</td>\n",
              "      <td>-5.999508e+00</td>\n",
              "      <td>4.825101e+00</td>\n",
              "      <td>6.694672</td>\n",
              "      <td>1.0</td>\n",
              "      <td>0.0</td>\n",
              "    </tr>\n",
              "  </tbody>\n",
              "</table>\n",
              "<p>444080 rows × 10 columns</p>\n",
              "</div>\n",
              "      <button class=\"colab-df-convert\" onclick=\"convertToInteractive('df-269e9cd7-0f7d-40b2-8ca0-4b79e46d7d3c')\"\n",
              "              title=\"Convert this dataframe to an interactive table.\"\n",
              "              style=\"display:none;\">\n",
              "        \n",
              "  <svg xmlns=\"http://www.w3.org/2000/svg\" height=\"24px\"viewBox=\"0 0 24 24\"\n",
              "       width=\"24px\">\n",
              "    <path d=\"M0 0h24v24H0V0z\" fill=\"none\"/>\n",
              "    <path d=\"M18.56 5.44l.94 2.06.94-2.06 2.06-.94-2.06-.94-.94-2.06-.94 2.06-2.06.94zm-11 1L8.5 8.5l.94-2.06 2.06-.94-2.06-.94L8.5 2.5l-.94 2.06-2.06.94zm10 10l.94 2.06.94-2.06 2.06-.94-2.06-.94-.94-2.06-.94 2.06-2.06.94z\"/><path d=\"M17.41 7.96l-1.37-1.37c-.4-.4-.92-.59-1.43-.59-.52 0-1.04.2-1.43.59L10.3 9.45l-7.72 7.72c-.78.78-.78 2.05 0 2.83L4 21.41c.39.39.9.59 1.41.59.51 0 1.02-.2 1.41-.59l7.78-7.78 2.81-2.81c.8-.78.8-2.07 0-2.86zM5.41 20L4 18.59l7.72-7.72 1.47 1.35L5.41 20z\"/>\n",
              "  </svg>\n",
              "      </button>\n",
              "      \n",
              "  <style>\n",
              "    .colab-df-container {\n",
              "      display:flex;\n",
              "      flex-wrap:wrap;\n",
              "      gap: 12px;\n",
              "    }\n",
              "\n",
              "    .colab-df-convert {\n",
              "      background-color: #E8F0FE;\n",
              "      border: none;\n",
              "      border-radius: 50%;\n",
              "      cursor: pointer;\n",
              "      display: none;\n",
              "      fill: #1967D2;\n",
              "      height: 32px;\n",
              "      padding: 0 0 0 0;\n",
              "      width: 32px;\n",
              "    }\n",
              "\n",
              "    .colab-df-convert:hover {\n",
              "      background-color: #E2EBFA;\n",
              "      box-shadow: 0px 1px 2px rgba(60, 64, 67, 0.3), 0px 1px 3px 1px rgba(60, 64, 67, 0.15);\n",
              "      fill: #174EA6;\n",
              "    }\n",
              "\n",
              "    [theme=dark] .colab-df-convert {\n",
              "      background-color: #3B4455;\n",
              "      fill: #D2E3FC;\n",
              "    }\n",
              "\n",
              "    [theme=dark] .colab-df-convert:hover {\n",
              "      background-color: #434B5C;\n",
              "      box-shadow: 0px 1px 3px 1px rgba(0, 0, 0, 0.15);\n",
              "      filter: drop-shadow(0px 1px 2px rgba(0, 0, 0, 0.3));\n",
              "      fill: #FFFFFF;\n",
              "    }\n",
              "  </style>\n",
              "\n",
              "      <script>\n",
              "        const buttonEl =\n",
              "          document.querySelector('#df-269e9cd7-0f7d-40b2-8ca0-4b79e46d7d3c button.colab-df-convert');\n",
              "        buttonEl.style.display =\n",
              "          google.colab.kernel.accessAllowed ? 'block' : 'none';\n",
              "\n",
              "        async function convertToInteractive(key) {\n",
              "          const element = document.querySelector('#df-269e9cd7-0f7d-40b2-8ca0-4b79e46d7d3c');\n",
              "          const dataTable =\n",
              "            await google.colab.kernel.invokeFunction('convertToInteractive',\n",
              "                                                     [key], {});\n",
              "          if (!dataTable) return;\n",
              "\n",
              "          const docLinkHtml = 'Like what you see? Visit the ' +\n",
              "            '<a target=\"_blank\" href=https://colab.research.google.com/notebooks/data_table.ipynb>data table notebook</a>'\n",
              "            + ' to learn more about interactive tables.';\n",
              "          element.innerHTML = '';\n",
              "          dataTable['output_type'] = 'display_data';\n",
              "          await google.colab.output.renderOutput(dataTable, element);\n",
              "          const docLink = document.createElement('div');\n",
              "          docLink.innerHTML = docLinkHtml;\n",
              "          element.appendChild(docLink);\n",
              "        }\n",
              "      </script>\n",
              "    </div>\n",
              "  </div>\n",
              "  "
            ]
          },
          "metadata": {},
          "execution_count": 3
        }
      ]
    },
    {
      "cell_type": "code",
      "source": [
        "print(df.shape)\n",
        "df1 = df.head(10000).copy()"
      ],
      "metadata": {
        "colab": {
          "base_uri": "https://localhost:8080/"
        },
        "id": "XnyAZZjy1Krx",
        "outputId": "803c4a32-47cc-4744-8f80-c922a2dfac95"
      },
      "execution_count": 4,
      "outputs": [
        {
          "output_type": "stream",
          "name": "stdout",
          "text": [
            "(444080, 10)\n"
          ]
        }
      ]
    },
    {
      "cell_type": "code",
      "source": [
        "X = df1.iloc[:, :-2].values\n",
        "y = df1.iloc[:, -2:].values\n",
        "tsne = TSNE(n_components=2, random_state=42)\n",
        "X_embedded = tsne.fit_transform(X)"
      ],
      "metadata": {
        "id": "9rTwr7pf0rOk"
      },
      "execution_count": 5,
      "outputs": []
    },
    {
      "cell_type": "code",
      "source": [
        "df_embedded = pd.DataFrame(X_embedded, columns=['Dimension 1', 'Dimension 2'])\n",
        "df_embedded['Class 1'] = y[:, 0]\n",
        "df_embedded['Class 2'] = y[:, 1]"
      ],
      "metadata": {
        "id": "NoACKJ2v1BES"
      },
      "execution_count": 6,
      "outputs": []
    },
    {
      "cell_type": "code",
      "source": [
        "plt.scatter(df_embedded['Dimension 1'], df_embedded['Dimension 2'], c=df_embedded['Class 1'])\n",
        "plt.scatter(df_embedded['Dimension 1'], df_embedded['Dimension 2'], c=df_embedded['Class 2'])\n",
        "plt.xlabel('Dimension 1')\n",
        "plt.ylabel('Dimension 2')\n",
        "plt.legend(['Class 1', 'Class 2'])\n",
        "plt.show()"
      ],
      "metadata": {
        "colab": {
          "base_uri": "https://localhost:8080/",
          "height": 449
        },
        "id": "B9dnpdpc1WF5",
        "outputId": "4ea91fa3-a9ed-4db0-9dd0-03e05e611832"
      },
      "execution_count": 7,
      "outputs": [
        {
          "output_type": "display_data",
          "data": {
            "text/plain": [
              "<Figure size 640x480 with 1 Axes>"
            ],
            "image/png": "[encoded data removed]"
          },
          "metadata": {}
        }
      ]
    },
    {
      "cell_type": "code",
      "source": [
        "import json\n",
        "\n",
        "# Read JSON file\n",
        "with open('/content/drive/MyDrive/NLPPROJECT/EpochLogging/TrainLosses.json') as file:\n",
        "    new_dict = json.load(file)"
      ],
      "metadata": {
        "id": "tKNGqnX61Xlv"
      },
      "execution_count": 8,
      "outputs": []
    },
    {
      "cell_type": "code",
      "source": [
        "new_dict"
      ],
      "metadata": {
        "colab": {
          "base_uri": "https://localhost:8080/"
        },
        "id": "Tcal5I8e1bJk",
        "outputId": "10634159-5985-4f80-d1e2-5174e07c8c38"
      },
      "execution_count": 9,
      "outputs": [
        {
          "output_type": "execute_result",
          "data": {
            "text/plain": [
              "{'St_Mul_L': [0.5634242229091625,\n",
              "  0.6157822200826959,\n",
              "  0.6246869173092816,\n",
              "  0.6297747625272024,\n",
              "  0.6333443863541344,\n",
              "  0.636529873519692,\n",
              "  0.6397006917651786,\n",
              "  0.6384736323831746,\n",
              "  0.6394402317201364,\n",
              "  0.6411428595722023,\n",
              "  0.6420658774851827,\n",
              "  0.6413324120937467,\n",
              "  0.6427871165455589,\n",
              "  0.6421460684912118,\n",
              "  0.6403296947485209,\n",
              "  0.6430869017059837,\n",
              "  0.6422255803220303,\n",
              "  0.6438900909928381,\n",
              "  0.6436311730415367,\n",
              "  0.6435289824212107],\n",
              " 'Co_Mul_L': [0.00023126860308796438,\n",
              "  0.00023108404744512235,\n",
              "  0.00023108405135454052,\n",
              "  0.00023108405324942857,\n",
              "  0.00023108405251463527,\n",
              "  0.00023108405292884859,\n",
              "  0.00023108405278028023,\n",
              "  0.00023108405393118753,\n",
              "  0.00023108405279594917,\n",
              "  0.00023108405331329925,\n",
              "  0.00023108405393976227,\n",
              "  0.00023108405302651346,\n",
              "  0.00023108405380431666,\n",
              "  0.0002310840538858737,\n",
              "  0.00023108405288842527,\n",
              "  0.00023108405389676934,\n",
              "  0.00023108405436585077,\n",
              "  0.00023108405260255588,\n",
              "  0.0002310840545488523,\n",
              "  0.00023108405413041028],\n",
              " 'St_Adv_L': [0.3452432245116604,\n",
              "  0.3180038689905507,\n",
              "  0.3113782940599165,\n",
              "  0.307585467105541,\n",
              "  0.30413671358366917,\n",
              "  0.3021084300278566,\n",
              "  0.3001764931736434,\n",
              "  0.2977728008111633,\n",
              "  0.2961977984820574,\n",
              "  0.29457421210011175,\n",
              "  0.2938782351477494,\n",
              "  0.29298306673525415,\n",
              "  0.2925306652000243,\n",
              "  0.29167212979885504,\n",
              "  0.29113599104206905,\n",
              "  0.2905761433014341,\n",
              "  0.2901660551698435,\n",
              "  0.29024424593485526,\n",
              "  0.28991119328325493,\n",
              "  0.2892021793400614],\n",
              " 'Co_Adv_L': [0.0002319638648187603,\n",
              "  0.00023109145452272542,\n",
              "  0.00023108517057104968,\n",
              "  0.00023108456464799256,\n",
              "  0.00023108424866098544,\n",
              "  0.00023108411671887347,\n",
              "  0.00023108406973483908,\n",
              "  0.00023108405442405085,\n",
              "  0.00023108405037359188,\n",
              "  0.00023108404776842235,\n",
              "  0.00023108404717349563,\n",
              "  0.0002310840469370799,\n",
              "  0.00023108404682431865,\n",
              "  0.00023108404676239072,\n",
              "  0.00023108404672340897,\n",
              "  0.00023108404669885846,\n",
              "  0.00023108404668199372,\n",
              "  0.0002310840466707087,\n",
              "  0.00023108404666246979,\n",
              "  0.00023108404665660843],\n",
              " 'Recon_L': [2.993413039842735,\n",
              "  1.9812532854638794,\n",
              "  1.6996854068252218,\n",
              "  1.5409964776681853,\n",
              "  1.4411896457110984,\n",
              "  1.3712817226968692,\n",
              "  1.3178525667224261,\n",
              "  1.2758748178426875,\n",
              "  1.400752961620996,\n",
              "  1.2182879696355426,\n",
              "  1.198702981387044,\n",
              "  1.179954230146531,\n",
              "  1.1641660594905994,\n",
              "  1.1584722862965722,\n",
              "  1.1346417561750555,\n",
              "  1.1219688006334003,\n",
              "  1.1118567117538996,\n",
              "  1.110542890537393,\n",
              "  1.0925816913841913,\n",
              "  1.1058281892369293],\n",
              " 'KL_L': [354.7174574247209,\n",
              "  593.3970577583565,\n",
              "  724.875927026408,\n",
              "  817.509047333972,\n",
              "  887.9822775263098,\n",
              "  946.047666171461,\n",
              "  998.9427625141903,\n",
              "  1044.0221669301943,\n",
              "  1080.8840859797403,\n",
              "  1119.121464404377,\n",
              "  1153.6450812637338,\n",
              "  1176.8096899544853,\n",
              "  1212.6700180602909,\n",
              "  1235.2947564923563,\n",
              "  1264.1335624790668,\n",
              "  1289.8195472437887,\n",
              "  1303.8538410466017,\n",
              "  1324.5725169281523,\n",
              "  1335.7027760737406,\n",
              "  1374.0416557048302],\n",
              " 'Over_L': [5.544845476312023,\n",
              "  4.234389401323729,\n",
              "  3.8831371858103836,\n",
              "  3.6848479447997606,\n",
              "  3.549323347668463,\n",
              "  3.458006408019494,\n",
              "  3.3842209525317446,\n",
              "  3.318698478623332,\n",
              "  3.427572142262064,\n",
              "  3.2283780205781345,\n",
              "  3.2013531918092264,\n",
              "  3.174057116139804,\n",
              "  3.153135788107317,\n",
              "  3.139229667591445,\n",
              "  3.1106675150877474,\n",
              "  3.091556753345222,\n",
              "  3.0776923588279983,\n",
              "  3.0763025688747634,\n",
              "  3.0553066557174624,\n",
              "  3.0614849329953553],\n",
              " 'St_Ent': [0.6317099389431869,\n",
              "  0.6571357255873963,\n",
              "  0.660564303957111,\n",
              "  0.6622363491211963,\n",
              "  0.6634665763169337,\n",
              "  0.6645927580190645,\n",
              "  0.6656296884829577,\n",
              "  0.6651374926782894,\n",
              "  0.6653919467157956,\n",
              "  0.665885213862632,\n",
              "  0.6663652864019609,\n",
              "  0.6659609244537583,\n",
              "  0.6665700683953709,\n",
              "  0.666197061905824,\n",
              "  0.6655672942613374,\n",
              "  0.6664066255418314,\n",
              "  0.6660580510200764,\n",
              "  0.6669159230595405,\n",
              "  0.6666201153459916,\n",
              "  0.6665981954573683],\n",
              " 'Co_Ent': [0.6317099389431869,\n",
              "  0.6571357255873963,\n",
              "  0.660564303957111,\n",
              "  0.6622363491211963,\n",
              "  0.6634665763169337,\n",
              "  0.6645927580190645,\n",
              "  0.6656296884829577,\n",
              "  0.6651374926782894,\n",
              "  0.6653919467157956,\n",
              "  0.665885213862632,\n",
              "  0.6663652864019609,\n",
              "  0.6659609244537583,\n",
              "  0.6665700683953709,\n",
              "  0.666197061905824,\n",
              "  0.6655672942613374,\n",
              "  0.6664066255418314,\n",
              "  0.6660580510200764,\n",
              "  0.6669159230595405,\n",
              "  0.6666201153459916,\n",
              "  0.6665981954573683],\n",
              " 'St_Mul_': [0.9112371802330017,\n",
              "  0.9287101030349731,\n",
              "  0.9331365823745728,\n",
              "  0.9358622431755066,\n",
              "  0.9380534887313843,\n",
              "  0.9392488598823547,\n",
              "  0.9403786063194275,\n",
              "  0.9421127438545227,\n",
              "  0.9430301785469055,\n",
              "  0.9440147876739502,\n",
              "  0.944486141204834,\n",
              "  0.9451678991317749,\n",
              "  0.9453441500663757,\n",
              "  0.9459599852561951,\n",
              "  0.9461711645126343,\n",
              "  0.9466536045074463,\n",
              "  0.9466667771339417,\n",
              "  0.9467425346374512,\n",
              "  0.9468103051185608,\n",
              "  0.9472731351852417],\n",
              " 'St_Adv_Acc': [0.7617143392562866,\n",
              "  0.6879889369010925,\n",
              "  0.6744734644889832,\n",
              "  0.6662135720252991,\n",
              "  0.6618905663490295,\n",
              "  0.6554177403450012,\n",
              "  0.650985598564148,\n",
              "  0.6534876823425293,\n",
              "  0.6517072916030884,\n",
              "  0.649366021156311,\n",
              "  0.6479728817939758,\n",
              "  0.6482493877410889,\n",
              "  0.6456968784332275,\n",
              "  0.647957444190979,\n",
              "  0.6506373882293701,\n",
              "  0.6460552215576172,\n",
              "  0.6474108695983887,\n",
              "  0.6437873840332031,\n",
              "  0.6454479694366455,\n",
              "  0.6451380252838135]}"
            ]
          },
          "metadata": {},
          "execution_count": 9
        }
      ]
    },
    {
      "cell_type": "code",
      "source": [
        "keys_to_extract = ['Recon_L','Over_L']\n",
        "\n",
        "# New dictionary with extracted keys\n",
        "data = {key: new_dict[key] for key in keys_to_extract}\n",
        "data"
      ],
      "metadata": {
        "colab": {
          "base_uri": "https://localhost:8080/"
        },
        "id": "2I_VX0qH1cxd",
        "outputId": "d2425966-1386-405d-cd3d-6b5c6166a26b"
      },
      "execution_count": 10,
      "outputs": [
        {
          "output_type": "execute_result",
          "data": {
            "text/plain": [
              "{'Recon_L': [2.993413039842735,\n",
              "  1.9812532854638794,\n",
              "  1.6996854068252218,\n",
              "  1.5409964776681853,\n",
              "  1.4411896457110984,\n",
              "  1.3712817226968692,\n",
              "  1.3178525667224261,\n",
              "  1.2758748178426875,\n",
              "  1.400752961620996,\n",
              "  1.2182879696355426,\n",
              "  1.198702981387044,\n",
              "  1.179954230146531,\n",
              "  1.1641660594905994,\n",
              "  1.1584722862965722,\n",
              "  1.1346417561750555,\n",
              "  1.1219688006334003,\n",
              "  1.1118567117538996,\n",
              "  1.110542890537393,\n",
              "  1.0925816913841913,\n",
              "  1.1058281892369293],\n",
              " 'Over_L': [5.544845476312023,\n",
              "  4.234389401323729,\n",
              "  3.8831371858103836,\n",
              "  3.6848479447997606,\n",
              "  3.549323347668463,\n",
              "  3.458006408019494,\n",
              "  3.3842209525317446,\n",
              "  3.318698478623332,\n",
              "  3.427572142262064,\n",
              "  3.2283780205781345,\n",
              "  3.2013531918092264,\n",
              "  3.174057116139804,\n",
              "  3.153135788107317,\n",
              "  3.139229667591445,\n",
              "  3.1106675150877474,\n",
              "  3.091556753345222,\n",
              "  3.0776923588279983,\n",
              "  3.0763025688747634,\n",
              "  3.0553066557174624,\n",
              "  3.0614849329953553]}"
            ]
          },
          "metadata": {},
          "execution_count": 10
        }
      ]
    },
    {
      "cell_type": "code",
      "source": [
        "keys_to_extract = ['St_Mul_L','Co_Mul_L','St_Adv_L','Co_Adv_L','St_Ent','Co_Ent','St_Mul_','St_Adv_Acc']\n",
        "\n",
        "# New dictionary with extracted keys\n",
        "data = {key: new_dict[key] for key in keys_to_extract}\n",
        "data"
      ],
      "metadata": {
        "colab": {
          "base_uri": "https://localhost:8080/"
        },
        "id": "RVq_J2sQ1gCL",
        "outputId": "e7fd5f7e-8b54-4a05-b954-354d3caaafc8"
      },
      "execution_count": 11,
      "outputs": [
        {
          "output_type": "execute_result",
          "data": {
            "text/plain": [
              "{'St_Mul_L': [0.5634242229091625,\n",
              "  0.6157822200826959,\n",
              "  0.6246869173092816,\n",
              "  0.6297747625272024,\n",
              "  0.6333443863541344,\n",
              "  0.636529873519692,\n",
              "  0.6397006917651786,\n",
              "  0.6384736323831746,\n",
              "  0.6394402317201364,\n",
              "  0.6411428595722023,\n",
              "  0.6420658774851827,\n",
              "  0.6413324120937467,\n",
              "  0.6427871165455589,\n",
              "  0.6421460684912118,\n",
              "  0.6403296947485209,\n",
              "  0.6430869017059837,\n",
              "  0.6422255803220303,\n",
              "  0.6438900909928381,\n",
              "  0.6436311730415367,\n",
              "  0.6435289824212107],\n",
              " 'Co_Mul_L': [0.00023126860308796438,\n",
              "  0.00023108404744512235,\n",
              "  0.00023108405135454052,\n",
              "  0.00023108405324942857,\n",
              "  0.00023108405251463527,\n",
              "  0.00023108405292884859,\n",
              "  0.00023108405278028023,\n",
              "  0.00023108405393118753,\n",
              "  0.00023108405279594917,\n",
              "  0.00023108405331329925,\n",
              "  0.00023108405393976227,\n",
              "  0.00023108405302651346,\n",
              "  0.00023108405380431666,\n",
              "  0.0002310840538858737,\n",
              "  0.00023108405288842527,\n",
              "  0.00023108405389676934,\n",
              "  0.00023108405436585077,\n",
              "  0.00023108405260255588,\n",
              "  0.0002310840545488523,\n",
              "  0.00023108405413041028],\n",
              " 'St_Adv_L': [0.3452432245116604,\n",
              "  0.3180038689905507,\n",
              "  0.3113782940599165,\n",
              "  0.307585467105541,\n",
              "  0.30413671358366917,\n",
              "  0.3021084300278566,\n",
              "  0.3001764931736434,\n",
              "  0.2977728008111633,\n",
              "  0.2961977984820574,\n",
              "  0.29457421210011175,\n",
              "  0.2938782351477494,\n",
              "  0.29298306673525415,\n",
              "  0.2925306652000243,\n",
              "  0.29167212979885504,\n",
              "  0.29113599104206905,\n",
              "  0.2905761433014341,\n",
              "  0.2901660551698435,\n",
              "  0.29024424593485526,\n",
              "  0.28991119328325493,\n",
              "  0.2892021793400614],\n",
              " 'Co_Adv_L': [0.0002319638648187603,\n",
              "  0.00023109145452272542,\n",
              "  0.00023108517057104968,\n",
              "  0.00023108456464799256,\n",
              "  0.00023108424866098544,\n",
              "  0.00023108411671887347,\n",
              "  0.00023108406973483908,\n",
              "  0.00023108405442405085,\n",
              "  0.00023108405037359188,\n",
              "  0.00023108404776842235,\n",
              "  0.00023108404717349563,\n",
              "  0.0002310840469370799,\n",
              "  0.00023108404682431865,\n",
              "  0.00023108404676239072,\n",
              "  0.00023108404672340897,\n",
              "  0.00023108404669885846,\n",
              "  0.00023108404668199372,\n",
              "  0.0002310840466707087,\n",
              "  0.00023108404666246979,\n",
              "  0.00023108404665660843],\n",
              " 'St_Ent': [0.6317099389431869,\n",
              "  0.6571357255873963,\n",
              "  0.660564303957111,\n",
              "  0.6622363491211963,\n",
              "  0.6634665763169337,\n",
              "  0.6645927580190645,\n",
              "  0.6656296884829577,\n",
              "  0.6651374926782894,\n",
              "  0.6653919467157956,\n",
              "  0.665885213862632,\n",
              "  0.6663652864019609,\n",
              "  0.6659609244537583,\n",
              "  0.6665700683953709,\n",
              "  0.666197061905824,\n",
              "  0.6655672942613374,\n",
              "  0.6664066255418314,\n",
              "  0.6660580510200764,\n",
              "  0.6669159230595405,\n",
              "  0.6666201153459916,\n",
              "  0.6665981954573683],\n",
              " 'Co_Ent': [0.6317099389431869,\n",
              "  0.6571357255873963,\n",
              "  0.660564303957111,\n",
              "  0.6622363491211963,\n",
              "  0.6634665763169337,\n",
              "  0.6645927580190645,\n",
              "  0.6656296884829577,\n",
              "  0.6651374926782894,\n",
              "  0.6653919467157956,\n",
              "  0.665885213862632,\n",
              "  0.6663652864019609,\n",
              "  0.6659609244537583,\n",
              "  0.6665700683953709,\n",
              "  0.666197061905824,\n",
              "  0.6655672942613374,\n",
              "  0.6664066255418314,\n",
              "  0.6660580510200764,\n",
              "  0.6669159230595405,\n",
              "  0.6666201153459916,\n",
              "  0.6665981954573683],\n",
              " 'St_Mul_': [0.9112371802330017,\n",
              "  0.9287101030349731,\n",
              "  0.9331365823745728,\n",
              "  0.9358622431755066,\n",
              "  0.9380534887313843,\n",
              "  0.9392488598823547,\n",
              "  0.9403786063194275,\n",
              "  0.9421127438545227,\n",
              "  0.9430301785469055,\n",
              "  0.9440147876739502,\n",
              "  0.944486141204834,\n",
              "  0.9451678991317749,\n",
              "  0.9453441500663757,\n",
              "  0.9459599852561951,\n",
              "  0.9461711645126343,\n",
              "  0.9466536045074463,\n",
              "  0.9466667771339417,\n",
              "  0.9467425346374512,\n",
              "  0.9468103051185608,\n",
              "  0.9472731351852417],\n",
              " 'St_Adv_Acc': [0.7617143392562866,\n",
              "  0.6879889369010925,\n",
              "  0.6744734644889832,\n",
              "  0.6662135720252991,\n",
              "  0.6618905663490295,\n",
              "  0.6554177403450012,\n",
              "  0.650985598564148,\n",
              "  0.6534876823425293,\n",
              "  0.6517072916030884,\n",
              "  0.649366021156311,\n",
              "  0.6479728817939758,\n",
              "  0.6482493877410889,\n",
              "  0.6456968784332275,\n",
              "  0.647957444190979,\n",
              "  0.6506373882293701,\n",
              "  0.6460552215576172,\n",
              "  0.6474108695983887,\n",
              "  0.6437873840332031,\n",
              "  0.6454479694366455,\n",
              "  0.6451380252838135]}"
            ]
          },
          "metadata": {},
          "execution_count": 11
        }
      ]
    },
    {
      "cell_type": "code",
      "source": [
        "import matplotlib.pyplot as plt\n",
        "\n",
        "x_keys = list(data.keys())  # Assuming the keys are the x-axis values\n",
        "y_values = list(data.values())  # Assuming the values are the y-axis values\n",
        "print(x_keys)\n",
        "print(y_values)\n",
        "\n",
        "for x_key, y_values in data.items():\n",
        "    plt.plot(y_values, label=x_key)\n",
        "\n",
        "plt.xlabel('Epochs')\n",
        "plt.ylabel('Loss')\n",
        "plt.title('Losses vs Epochs')\n",
        "plt.legend(list(data.keys()))\n",
        "plt.savefig('loss.png')\n",
        "plt.show()"
      ],
      "metadata": {
        "colab": {
          "base_uri": "https://localhost:8080/",
          "height": 528
        },
        "id": "23-ds_jq1iNR",
        "outputId": "458ce45f-0f2d-4e65-9a1d-c2a04a544945"
      },
      "execution_count": 12,
      "outputs": [
        {
          "output_type": "stream",
          "name": "stdout",
          "text": [
            "['St_Mul_L', 'Co_Mul_L', 'St_Adv_L', 'Co_Adv_L', 'St_Ent', 'Co_Ent', 'St_Mul_', 'St_Adv_Acc']\n",
            "[[0.5634242229091625, 0.6157822200826959, 0.6246869173092816, 0.6297747625272024, 0.6333443863541344, 0.636529873519692, 0.6397006917651786, 0.6384736323831746, 0.6394402317201364, 0.6411428595722023, 0.6420658774851827, 0.6413324120937467, 0.6427871165455589, 0.6421460684912118, 0.6403296947485209, 0.6430869017059837, 0.6422255803220303, 0.6438900909928381, 0.6436311730415367, 0.6435289824212107], [0.00023126860308796438, 0.00023108404744512235, 0.00023108405135454052, 0.00023108405324942857, 0.00023108405251463527, 0.00023108405292884859, 0.00023108405278028023, 0.00023108405393118753, 0.00023108405279594917, 0.00023108405331329925, 0.00023108405393976227, 0.00023108405302651346, 0.00023108405380431666, 0.0002310840538858737, 0.00023108405288842527, 0.00023108405389676934, 0.00023108405436585077, 0.00023108405260255588, 0.0002310840545488523, 0.00023108405413041028], [0.3452432245116604, 0.3180038689905507, 0.3113782940599165, 0.307585467105541, 0.30413671358366917, 0.3021084300278566, 0.3001764931736434, 0.2977728008111633, 0.2961977984820574, 0.29457421210011175, 0.2938782351477494, 0.29298306673525415, 0.2925306652000243, 0.29167212979885504, 0.29113599104206905, 0.2905761433014341, 0.2901660551698435, 0.29024424593485526, 0.28991119328325493, 0.2892021793400614], [0.0002319638648187603, 0.00023109145452272542, 0.00023108517057104968, 0.00023108456464799256, 0.00023108424866098544, 0.00023108411671887347, 0.00023108406973483908, 0.00023108405442405085, 0.00023108405037359188, 0.00023108404776842235, 0.00023108404717349563, 0.0002310840469370799, 0.00023108404682431865, 0.00023108404676239072, 0.00023108404672340897, 0.00023108404669885846, 0.00023108404668199372, 0.0002310840466707087, 0.00023108404666246979, 0.00023108404665660843], [0.6317099389431869, 0.6571357255873963, 0.660564303957111, 0.6622363491211963, 0.6634665763169337, 0.6645927580190645, 0.6656296884829577, 0.6651374926782894, 0.6653919467157956, 0.665885213862632, 0.6663652864019609, 0.6659609244537583, 0.6665700683953709, 0.666197061905824, 0.6655672942613374, 0.6664066255418314, 0.6660580510200764, 0.6669159230595405, 0.6666201153459916, 0.6665981954573683], [0.6317099389431869, 0.6571357255873963, 0.660564303957111, 0.6622363491211963, 0.6634665763169337, 0.6645927580190645, 0.6656296884829577, 0.6651374926782894, 0.6653919467157956, 0.665885213862632, 0.6663652864019609, 0.6659609244537583, 0.6665700683953709, 0.666197061905824, 0.6655672942613374, 0.6664066255418314, 0.6660580510200764, 0.6669159230595405, 0.6666201153459916, 0.6665981954573683], [0.9112371802330017, 0.9287101030349731, 0.9331365823745728, 0.9358622431755066, 0.9380534887313843, 0.9392488598823547, 0.9403786063194275, 0.9421127438545227, 0.9430301785469055, 0.9440147876739502, 0.944486141204834, 0.9451678991317749, 0.9453441500663757, 0.9459599852561951, 0.9461711645126343, 0.9466536045074463, 0.9466667771339417, 0.9467425346374512, 0.9468103051185608, 0.9472731351852417], [0.7617143392562866, 0.6879889369010925, 0.6744734644889832, 0.6662135720252991, 0.6618905663490295, 0.6554177403450012, 0.650985598564148, 0.6534876823425293, 0.6517072916030884, 0.649366021156311, 0.6479728817939758, 0.6482493877410889, 0.6456968784332275, 0.647957444190979, 0.6506373882293701, 0.6460552215576172, 0.6474108695983887, 0.6437873840332031, 0.6454479694366455, 0.6451380252838135]]\n"
          ]
        },
        {
          "output_type": "display_data",
          "data": {
            "text/plain": [
              "<Figure size 640x480 with 1 Axes>"
            ],
            "image/png": "[encoded data removed]"
          },
          "metadata": {}
        }
      ]
    },
    {
      "cell_type": "code",
      "source": [],
      "metadata": {
        "id": "zgtRuDRh1lIc"
      },
      "execution_count": null,
      "outputs": []
    }
  ]
}